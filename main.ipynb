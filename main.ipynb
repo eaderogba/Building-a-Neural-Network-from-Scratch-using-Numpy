{
 "cells": [
  {
   "cell_type": "markdown",
   "metadata": {},
   "source": [
    "### Building a neural network from scratch with NumPy.\n",
    "1. Define the architechture: Input, hidden, and output layers.\n",
    "2. Initialise weights and biases: Random initialisation\n",
    "3. Forward Propagation: Compute outputs layer by layer using activation functions\n",
    "4. Loss Function: Calculate the error (Mean Squared Error/Cross Entropy)\n",
    "5. Backward Propagation: Compute gradients using the chain rule\n",
    "6. Update the weights and biases: using gradient decent (an optimization algorithm)"
   ]
  },
  {
   "cell_type": "markdown",
   "metadata": {},
   "source": [
    "Let us start with a simple case, a fully connected neural network with:\n",
    "- 1 input layer, 1 hidden layer, and 1 output\n",
    "- Activation functions: Sigmoid for hidden/output layers\n",
    "- Loss function: Mean Squared Error (MSE)"
   ]
  },
  {
   "cell_type": "code",
   "execution_count": 13,
   "metadata": {},
   "outputs": [],
   "source": [
    "import numpy as np\n",
    "\n",
    "# Sigmoid activation function and its derivative\n",
    "def sigmoid(x):\n",
    "    return 1 / (1 + np.exp(-x))\n",
    "\n",
    "# This function simplifies gradient calculations in training\n",
    "def sigmoid_derivative(x):\n",
    "    return x * (1 - x)\n",
    "\n",
    "# Mean Squared Error loss\n",
    "def mse_loss(y_true, y_pred):\n",
    "    return np.mean((y_true - y_pred) ** 2)"
   ]
  },
  {
   "cell_type": "markdown",
   "metadata": {},
   "source": [
    "- Sigmoid in Forward Pass: Computes the output for each neuron and enables the network to make predictions.\n",
    "- Sigmoid Derivative in Backward Pass: Helps adjust the weights and biases by determining how each weight and bias contributes to the error.\n",
    "- The Mean Squared Error (MSE) is a loss function which measures the difference between the predicted and actual values"
   ]
  },
  {
   "cell_type": "code",
   "execution_count": 14,
   "metadata": {},
   "outputs": [],
   "source": [
    "# Specify the Neural Network Parameters\n",
    "np.random.seed(42)\n",
    "input_size = 2 # Number of features\n",
    "hidden_size = 3 # Number of neurons in the hidden layer\n",
    "output_size = 1 # Number of output neurons"
   ]
  },
  {
   "cell_type": "markdown",
   "metadata": {},
   "source": [
    "- Now you want to initialise the weights for the connection between the input layer and the hidden layer. Here, you are creating a 2D array (matrix) of shape (input_size, hidden_size) filled with random values uniformly distributed between o and 1.\n",
    "- -0.5 shifts the range of the random values from [0, 1] to [-0.5, 0.5]. Ensure that the weights are centred around zero, which is important for better training dynamics in neural networks"
   ]
  },
  {
   "cell_type": "code",
   "execution_count": 15,
   "metadata": {},
   "outputs": [],
   "source": [
    "# Initialise weights and biases\n",
    "weights_input_hidden = np.random.rand(input_size, hidden_size) - 0.5\n",
    "weights_hidden_output = np.random.rand(hidden_size, output_size) - 0.5\n",
    "bias_hidden = np.random.rand(1, hidden_size) - 0.5\n",
    "bias_output = np.random.rand(1, output_size) - 0.5\n",
    "\n",
    "# learning rate\n",
    "lr = 0.1"
   ]
  },
  {
   "cell_type": "code",
   "execution_count": 19,
   "metadata": {},
   "outputs": [
    {
     "name": "stdout",
     "output_type": "stream",
     "text": [
      "Epoch  0: 0.2135\n",
      "Epoch  1000: 0.2133\n",
      "Epoch  2000: 0.2131\n",
      "Epoch  3000: 0.2129\n",
      "Epoch  4000: 0.2126\n",
      "Epoch  5000: 0.2117\n",
      "Epoch  6000: 0.2099\n",
      "Epoch  7000: 0.2091\n",
      "Epoch  8000: 0.2086\n",
      "Epoch  9000: 0.2082\n",
      "\n",
      "Testing Neural Network:\n",
      "Input: [0 1], Predicted Output: 0.49476577644884345, Rounded: 0\n",
      "Input: [0 1], Predicted Output: 0.49476577644884345, Rounded: 0\n",
      "Input: [1 0], Predicted Output: 0.6761432843204604, Rounded: 1\n",
      "Input: [1 1], Predicted Output: 0.4787089258581361, Rounded: 0\n",
      "Input: [0 1], Predicted Output: 0.49476577644884345, Rounded: 0\n",
      "Input: [1 0], Predicted Output: 0.6761432843204604, Rounded: 1\n",
      "Input: [1 1], Predicted Output: 0.4787089258581361, Rounded: 0\n",
      "Input: [1 1], Predicted Output: 0.4787089258581361, Rounded: 0\n"
     ]
    }
   ],
   "source": [
    "# Training data (XOR problem)\n",
    "x = np.array([[0, 1], [0, 1], [1, 0], [1, 1], [0, 1], [1, 0], [1, 1], [1, 1]])\n",
    "y = np.array([[1], [1], [1], [0], [1], [1], [0], [0]])\n",
    "\n",
    "epochs = 10000\n",
    "for epoch in range(epochs):\n",
    "    # Forward propagation\n",
    "    hidden_input = np.dot(x, weights_input_hidden) + bias_hidden\n",
    "    hidden_ouput = sigmoid(hidden_input)\n",
    "    \n",
    "    final_input = np.dot(hidden_ouput, weights_hidden_output) + bias_output\n",
    "    final_output = sigmoid(final_input)\n",
    "    \n",
    "    # Compute loss\n",
    "    loss = mse_loss(y, final_output)\n",
    "    \n",
    "    # Background Propagation\n",
    "    error = y - final_output\n",
    "    d_ouput = error * sigmoid_derivative(final_output)\n",
    "    \n",
    "    error_hidden = d_ouput.dot(weights_hidden_output.T)\n",
    "    d_hidden = error_hidden * sigmoid_derivative(hidden_ouput)\n",
    "    \n",
    "    # Update weights and biases\n",
    "    weights_input_hidden += x.T.dot(d_hidden) * lr\n",
    "    bias_hidden += np.sum(d_hidden, axis=0, keepdims=True) * lr\n",
    "    \n",
    "    # Print loss every 1000 epochs\n",
    "    if epoch % 1000 == 0:\n",
    "        print(f\"Epoch  {epoch}: {loss:.4f}\")\n",
    "    \n",
    "# Test the network\n",
    "print(\"\\nTesting Neural Network:\")\n",
    "for i in range(len(x)):\n",
    "    hidden_input = np.dot(x[i], weights_input_hidden) + bias_hidden\n",
    "    hidden_ouput = sigmoid(hidden_input)\n",
    "    \n",
    "    final_input = np.dot(hidden_ouput, weights_hidden_output) + bias_output\n",
    "    final_output = sigmoid(final_input)\n",
    "    \n",
    "    print(f\"Input: {x[i]}, Predicted Output: {final_output[0][0]}, Rounded: {round(final_output[0][0])}\")"
   ]
  },
  {
   "cell_type": "markdown",
   "metadata": {},
   "source": []
  }
 ],
 "metadata": {
  "kernelspec": {
   "display_name": "Python 3",
   "language": "python",
   "name": "python3"
  },
  "language_info": {
   "codemirror_mode": {
    "name": "ipython",
    "version": 3
   },
   "file_extension": ".py",
   "mimetype": "text/x-python",
   "name": "python",
   "nbconvert_exporter": "python",
   "pygments_lexer": "ipython3",
   "version": "3.12.3"
  }
 },
 "nbformat": 4,
 "nbformat_minor": 2
}
